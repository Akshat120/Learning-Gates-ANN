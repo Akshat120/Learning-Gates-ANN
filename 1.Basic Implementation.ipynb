{
 "cells": [
  {
   "cell_type": "markdown",
   "id": "d4d4de22",
   "metadata": {},
   "source": [
    "## Basic Implementation\n",
    "### Learning-Gate using 2 Layer"
   ]
  },
  {
   "cell_type": "code",
   "execution_count": 15,
   "id": "8b336f3b",
   "metadata": {},
   "outputs": [],
   "source": [
    "import numpy as np\n",
    "from sklearn.metrics import mean_squared_error"
   ]
  },
  {
   "cell_type": "code",
   "execution_count": 16,
   "id": "914e0aa9",
   "metadata": {},
   "outputs": [],
   "source": [
    "def sigmoid(X):\n",
    "    return 1/(1+np.exp(-X))"
   ]
  },
  {
   "cell_type": "code",
   "execution_count": 17,
   "id": "642007dc",
   "metadata": {},
   "outputs": [],
   "source": [
    "def feed_forward(X,w11,w12,w21,w22,wh10,wh20,b0,b1,b2):\n",
    "    oh1 = sigmoid(X[1]*w11+X[2]*w21+b0)\n",
    "    oh2 = sigmoid(X[1]*w12+X[2]*w22+b1)\n",
    "    oo = sigmoid(oh1*wh10+oh2*wh20+b2) \n",
    "    return (oh1,oh2,oo)\n"
   ]
  },
  {
   "cell_type": "code",
   "execution_count": 18,
   "id": "1478ea4b",
   "metadata": {},
   "outputs": [],
   "source": [
    "def back_propagate(oo,oh1,oh2,t,w11,w12,w21,w22,wh10,wh20,b0,b1,b2,alpha,X):\n",
    "    del_o  = oo*(1-oo)*(t-oo)\n",
    "    del_h1 = oh1*(1-oh1)*(wh10*del_o)\n",
    "    del_h2 = oh2*(1-oh2)*(wh20*del_o)\n",
    "    \n",
    "    b2  = b2  + alpha*del_o*1\n",
    "    wh10 = wh10 + alpha*del_o*oh1\n",
    "    wh20 = wh20 + alpha*del_o*oh2\n",
    "    \n",
    "    b0 = b0 + alpha*del_h1*1\n",
    "    b1 = b1 + alpha*del_h2*1\n",
    "    \n",
    "    w11 = w11 + alpha*del_h1*X[1]\n",
    "    w12 = w12 + alpha*del_h2*X[1]\n",
    "    w21 = w21 + alpha*del_h1*X[2]\n",
    "    w22 = w22 + alpha*del_h2*X[2]\n",
    "\n",
    "    return (w11,w12,w21,w22,b0,b1,wh10,wh20,b2)\n",
    "    "
   ]
  },
  {
   "cell_type": "code",
   "execution_count": 19,
   "id": "1723796d",
   "metadata": {},
   "outputs": [],
   "source": [
    "def Learn(itr,table,alpha):\n",
    "    \n",
    "    in_table = table[:,0:3]\n",
    "    \n",
    "    t = table[:,-1]\n",
    "    \n",
    "    (w11,w12,w21,w22,b0,b1,wh10,wh20,b2) = np.random.randn(9)\n",
    "    for _ in range(itr):\n",
    "        out = np.ones(4)\n",
    "        for i in range(4):\n",
    "            oh1,oh2,oo = feed_forward(in_table[i],w11,w12,w21,w22,wh10,wh20,b0,b1,b2)\n",
    "            w11,w12,w21,w22,b0,b1,wh10,wh20,b2 = back_propagate(oo,oh1,oh2,t[i],w11,w12,w21,w22,wh10,wh20,b0,b1,b2,alpha,in_table[i])\n",
    "            out[i]=oo\n",
    "        Er = mean_squared_error(t,out)\n",
    "        if(Er < 0.05):\n",
    "            print(Er)\n",
    "            print(out)\n",
    "            break\n",
    "        \n",
    "    return [w11,w12,w21,w22,b0,b1,wh10,wh20,b2]\n",
    "    "
   ]
  },
  {
   "cell_type": "code",
   "execution_count": 20,
   "id": "bfd4fd82",
   "metadata": {},
   "outputs": [],
   "source": [
    "table = np.array([\n",
    "    [1,0,0,1],\n",
    "    [1,0,1,0],\n",
    "    [1,1,0,0],\n",
    "    [1,1,1,1]\n",
    "])"
   ]
  },
  {
   "cell_type": "code",
   "execution_count": 21,
   "id": "37ce4f64",
   "metadata": {
    "scrolled": false
   },
   "outputs": [
    {
     "name": "stdout",
     "output_type": "stream",
     "text": [
      "0.049789183102332234\n",
      "[0.74606248 0.25433934 0.16753364 0.79526494]\n"
     ]
    },
    {
     "data": {
      "text/plain": [
       "[4.342428758457555,\n",
       " -3.279541344936138,\n",
       " -4.6322144165229,\n",
       " 2.8026378838577433,\n",
       " -2.825884876316652,\n",
       " -1.466059254932191,\n",
       " -4.500509208861701,\n",
       " -4.109629400267018,\n",
       " 2.10994181883564]"
      ]
     },
     "execution_count": 21,
     "metadata": {},
     "output_type": "execute_result"
    }
   ],
   "source": [
    "Learn(1000,table,0.8)"
   ]
  },
  {
   "cell_type": "code",
   "execution_count": null,
   "id": "d323f217",
   "metadata": {},
   "outputs": [],
   "source": []
  }
 ],
 "metadata": {
  "kernelspec": {
   "display_name": "Python 3 (ipykernel)",
   "language": "python",
   "name": "python3"
  },
  "language_info": {
   "codemirror_mode": {
    "name": "ipython",
    "version": 3
   },
   "file_extension": ".py",
   "mimetype": "text/x-python",
   "name": "python",
   "nbconvert_exporter": "python",
   "pygments_lexer": "ipython3",
   "version": "3.8.11"
  },
  "vscode": {
   "interpreter": {
    "hash": "0469791ef55a2f5fb2f7740c5e1107964638afec70bf2ad6d49404894f16804a"
   }
  }
 },
 "nbformat": 4,
 "nbformat_minor": 5
}

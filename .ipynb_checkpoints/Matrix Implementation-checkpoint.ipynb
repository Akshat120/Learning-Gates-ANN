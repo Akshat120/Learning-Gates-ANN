{
 "cells": [
  {
   "cell_type": "markdown",
   "id": "d4d4de22",
   "metadata": {},
   "source": [
    "## Matrix Implementation\n",
    "### Learning-Gate using 2 Layer"
   ]
  },
  {
   "cell_type": "code",
   "execution_count": 15,
   "id": "16d8574f",
   "metadata": {},
   "outputs": [],
   "source": [
    "import numpy as np\n",
    "from sklearn.metrics import mean_squared_error"
   ]
  },
  {
   "cell_type": "code",
   "execution_count": 16,
   "id": "f5e2f095",
   "metadata": {},
   "outputs": [],
   "source": [
    "def sigmoid(X):\n",
    "    return 1/(1+np.exp(-X))"
   ]
  },
  {
   "cell_type": "code",
   "execution_count": 17,
   "id": "f1b560d2",
   "metadata": {},
   "outputs": [],
   "source": [
    "def feed_forward(X,W_L1,W_L2):\n",
    "    \n",
    "    O_L1 = sigmoid(np.matmul(X,W_L1))\n",
    "    O_L2 = sigmoid(np.matmul(O_L1,W_L2))\n",
    "    \n",
    "    return O_L1,O_L2\n",
    "    \n",
    "    "
   ]
  },
  {
   "cell_type": "code",
   "execution_count": 18,
   "id": "73668027",
   "metadata": {},
   "outputs": [],
   "source": [
    "def back_propagation(X,alpha,W_L1,W_L2,O_L1,O_L2,expected):\n",
    "    E_o = O_L2*(1-O_L2)*(expected-O_L2);\n",
    "    \n",
    "    E_h = E_o * (O_L1*(1-O_L1)*W_L2.reshape(1,3))\n",
    "    \n",
    "    W_L2 = W_L2 + (alpha * E_o * O_L1).reshape(3,1)\n",
    "    \n",
    "    X=X.reshape(4,1)\n",
    "\n",
    "    mask = np.array([[1,1,0],[1,1,0],[1,0,0],[0,1,1]])\n",
    "    W_L1 = ( W_L1 + (alpha * np.matmul(X,E_h)) ) * mask\n",
    "    \n",
    "    return W_L1,W_L2\n",
    "    "
   ]
  },
  {
   "cell_type": "code",
   "execution_count": 19,
   "id": "c2b3937a",
   "metadata": {},
   "outputs": [],
   "source": [
    "def Learn(table,itr,alpha):\n",
    "    X = table[:,0:2]\n",
    "    expected = table[:,-1]\n",
    "    ones = np.ones(8).reshape(4,2)\n",
    "    X = np.hstack((X,ones))\n",
    "\n",
    "    mask = np.array([[1,1,0],[1,1,0],[1,0,0],[0,1,1]])\n",
    "    W_L1 = np.random.randn(12).reshape(4,3) * mask\n",
    "    W_L1[3][2]=np.inf\n",
    "    W_L2 = np.random.randn(3).reshape(3,1)\n",
    "\n",
    "    for _ in range(itr):\n",
    "        out = np.ones(4)\n",
    "        for i in range(4):\n",
    "#             print(\"Sample(\",i,\")\")\n",
    "#             print(X[i],expected[i])\n",
    "            O_L1,O_L2 = feed_forward(X[i],W_L1,W_L2)\n",
    "#             print(\"O_L2=\",O_L2)\n",
    "            W_L1,W_L2 = back_propagation(X[i],alpha,W_L1,W_L2,O_L1,O_L2,expected[i])\n",
    "#         print(\"\")\n",
    "            out[i]=O_L2\n",
    "        Er = mean_squared_error(expected,out)\n",
    "        if(Er<0.02):\n",
    "            print(Er)\n",
    "            print(out)\n",
    "            break\n",
    "    return W_L1,W_L2\n",
    "    "
   ]
  },
  {
   "cell_type": "code",
   "execution_count": 20,
   "id": "62d77147",
   "metadata": {},
   "outputs": [
    {
     "name": "stdout",
     "output_type": "stream",
     "text": [
      "0.04973998034328952\n",
      "[0.6972519  0.20564799 0.2066635  0.85065941]\n"
     ]
    },
    {
     "data": {
      "text/plain": [
       "(array([[ 3.06110095,  4.06183002,  0.        ],\n",
       "        [ 3.21557248,  4.07226093,  0.        ],\n",
       "        [-1.36254029,  0.        ,  0.        ],\n",
       "        [-0.        , -6.7537899 ,         inf]]),\n",
       " array([[-3.97996758],\n",
       "        [ 5.16429239],\n",
       "        [ 1.65459877]]))"
      ]
     },
     "execution_count": 20,
     "metadata": {},
     "output_type": "execute_result"
    }
   ],
   "source": [
    "table = np.array([\n",
    "    [0,0,1],\n",
    "    [0,1,0],\n",
    "    [1,0,0],\n",
    "    [1,1,1]\n",
    "])\n",
    "Learn(table,1000,1)"
   ]
  },
  {
   "cell_type": "code",
   "execution_count": null,
   "id": "2fb76aa5",
   "metadata": {},
   "outputs": [],
   "source": []
  }
 ],
 "metadata": {
  "kernelspec": {
   "display_name": "Python 3 (ipykernel)",
   "language": "python",
   "name": "python3"
  },
  "language_info": {
   "codemirror_mode": {
    "name": "ipython",
    "version": 3
   },
   "file_extension": ".py",
   "mimetype": "text/x-python",
   "name": "python",
   "nbconvert_exporter": "python",
   "pygments_lexer": "ipython3",
   "version": "3.8.11"
  },
  "vscode": {
   "interpreter": {
    "hash": "0469791ef55a2f5fb2f7740c5e1107964638afec70bf2ad6d49404894f16804a"
   }
  }
 },
 "nbformat": 4,
 "nbformat_minor": 5
}

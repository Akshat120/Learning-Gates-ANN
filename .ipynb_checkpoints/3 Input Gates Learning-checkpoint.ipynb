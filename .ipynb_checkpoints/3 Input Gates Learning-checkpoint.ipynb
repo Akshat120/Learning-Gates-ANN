{
 "cells": [
  {
   "cell_type": "markdown",
   "id": "24c20c58",
   "metadata": {},
   "source": [
    "## 3-Input Gates"
   ]
  },
  {
   "cell_type": "code",
   "execution_count": 10,
   "id": "9eb031ae",
   "metadata": {},
   "outputs": [],
   "source": [
    "import numpy as np\n",
    "from sklearn.metrics import mean_squared_error"
   ]
  },
  {
   "cell_type": "code",
   "execution_count": 13,
   "id": "d59d56be",
   "metadata": {},
   "outputs": [],
   "source": [
    "def sigmoid(X):\n",
    "    return 1/(1+np.exp(-X))\n",
    "\n",
    "def feed_forward(X,W_L1,W_L2):\n",
    "    \n",
    "    O_L1 = sigmoid(np.matmul(X,W_L1))\n",
    "    O_L2 = sigmoid(np.matmul(O_L1,W_L2))\n",
    "    \n",
    "    return O_L1,O_L2\n",
    "\n",
    "def back_propagation(X,alpha,W_L1,W_L2,O_L1,O_L2,expected):\n",
    "    E_o = O_L2*(1-O_L2)*(expected-O_L2);\n",
    "    \n",
    "    E_h = E_o * (O_L1*(1-O_L1)*W_L2.reshape(1,4))\n",
    "    \n",
    "    W_L2 = W_L2 + (alpha * E_o * O_L1).reshape(4,1)\n",
    "    \n",
    "    X=X.reshape(6,1)\n",
    "\n",
    "    mask = np.array([[1,1,1,0],[1,1,1,0],[1,1,1,0],[1,0,0,0],[0,1,0,0],[0,0,1,1]])\n",
    "    W_L1 = ( W_L1 + (alpha * np.matmul(X,E_h)) ) * mask\n",
    "    \n",
    "    return W_L1,W_L2\n",
    "    \n",
    "def Learn(table,itr,alpha):\n",
    "    X = table[:,0:3]\n",
    "    expected = table[:,-1]\n",
    "    ones = np.ones(24).reshape(8,3)\n",
    "    X = np.hstack((X,ones))\n",
    "\n",
    "    mask = np.array([[1,1,1,0],[1,1,1,0],[1,1,1,0],[1,0,0,0],[0,1,0,0],[0,0,1,1]])\n",
    "    W_L1 = np.random.randn(24).reshape(6,4) * mask\n",
    "    W_L1[5][3]=np.inf\n",
    "    W_L2 = np.random.randn(4).reshape(4,1)\n",
    "    \n",
    "    for _ in range(itr):\n",
    "        out=np.ones(8)\n",
    "        for i in range(8):\n",
    "            O_L1,O_L2 = feed_forward(X[i],W_L1,W_L2)\n",
    "            W_L1,W_L2 = back_propagation(X[i],alpha,W_L1,W_L2,O_L1,O_L2,expected[i])\n",
    "            out[i]=O_L2\n",
    "        Er=mean_squared_error(expected,out)\n",
    "        if(Er<0.01):\n",
    "            print(Er)\n",
    "            print(out)\n",
    "            break\n",
    "    return W_L1,W_L2\n",
    "\n",
    "\n"
   ]
  },
  {
   "cell_type": "code",
   "execution_count": 14,
   "id": "106bf664",
   "metadata": {},
   "outputs": [
    {
     "name": "stdout",
     "output_type": "stream",
     "text": [
      "0.019887360173211247\n",
      "[0.2064717  0.89317066 0.8904978  0.88632387 0.8884698  0.88331829\n",
      " 0.88040448 0.19946459]\n"
     ]
    },
    {
     "data": {
      "text/plain": [
       "(array([[ 2.89721709,  1.11070916, -2.71363066,  0.        ],\n",
       "        [ 2.81041553,  1.15402706, -2.77457052,  0.        ],\n",
       "        [ 2.7630118 ,  1.44223159, -2.7418425 ,  0.        ],\n",
       "        [-6.9197088 , -0.        ,  0.        ,  0.        ],\n",
       "        [ 0.        ,  0.47700624,  0.        ,  0.        ],\n",
       "        [ 0.        , -0.        ,  1.17959579,         inf]]),\n",
       " array([[-6.11484387],\n",
       "        [ 2.04374571],\n",
       "        [-5.31907193],\n",
       "        [ 1.45242007]]))"
      ]
     },
     "execution_count": 14,
     "metadata": {},
     "output_type": "execute_result"
    }
   ],
   "source": [
    "table = np.array([\n",
    "    [0,0,0,0],\n",
    "    [0,0,1,1],\n",
    "    [0,1,0,1],\n",
    "    [0,1,1,1],\n",
    "    [1,0,0,1],\n",
    "    [1,0,1,1],\n",
    "    [1,1,0,1],\n",
    "    [1,1,1,0]\n",
    "])\n",
    "Learn(table,1000,1)"
   ]
  },
  {
   "cell_type": "code",
   "execution_count": null,
   "id": "4ba28aad",
   "metadata": {},
   "outputs": [],
   "source": []
  },
  {
   "cell_type": "code",
   "execution_count": null,
   "id": "5315c085",
   "metadata": {},
   "outputs": [],
   "source": []
  }
 ],
 "metadata": {
  "kernelspec": {
   "display_name": "Python 3 (ipykernel)",
   "language": "python",
   "name": "python3"
  },
  "language_info": {
   "codemirror_mode": {
    "name": "ipython",
    "version": 3
   },
   "file_extension": ".py",
   "mimetype": "text/x-python",
   "name": "python",
   "nbconvert_exporter": "python",
   "pygments_lexer": "ipython3",
   "version": "3.8.11"
  },
  "vscode": {
   "interpreter": {
    "hash": "0469791ef55a2f5fb2f7740c5e1107964638afec70bf2ad6d49404894f16804a"
   }
  }
 },
 "nbformat": 4,
 "nbformat_minor": 5
}
